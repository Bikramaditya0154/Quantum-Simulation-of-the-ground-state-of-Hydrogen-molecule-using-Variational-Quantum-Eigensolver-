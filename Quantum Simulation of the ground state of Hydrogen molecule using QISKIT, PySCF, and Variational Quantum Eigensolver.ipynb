{
 "cells": [
  {
   "cell_type": "code",
   "execution_count": 7,
   "id": "bede424c",
   "metadata": {},
   "outputs": [],
   "source": [
    "from qiskit.algorithms import VQE\n",
    "from qiskit_nature.algorithms import (GroundStateEigensolver,\n",
    "                                      NumPyMinimumEigensolverFactory)\n",
    "from qiskit_nature.drivers import Molecule\n",
    "from qiskit_nature.drivers.second_quantization import (\n",
    "    ElectronicStructureMoleculeDriver, ElectronicStructureDriverType)\n",
    "from qiskit_nature.transformers.second_quantization.electronic import FreezeCoreTransformer\n",
    "from qiskit_nature.problems.second_quantization import ElectronicStructureProblem\n",
    "from qiskit_nature.converters.second_quantization import QubitConverter\n",
    "from qiskit_nature.mappers.second_quantization import ParityMapper\n",
    "\n",
    "import matplotlib.pyplot as plt\n",
    "import numpy as np\n",
    "from qiskit_nature.circuit.library import UCCSD, HartreeFock\n",
    "from qiskit.circuit.library import EfficientSU2\n",
    "from qiskit.algorithms.optimizers import COBYLA, SPSA, SLSQP\n",
    "from qiskit.opflow import TwoQubitReduction\n",
    "from qiskit import BasicAer, Aer\n",
    "from qiskit.utils import QuantumInstance\n",
    "from qiskit.utils.mitigation import CompleteMeasFitter\n",
    "from qiskit.providers.aer.noise import NoiseModel"
   ]
  },
  {
   "cell_type": "code",
   "execution_count": 8,
   "id": "8597c7b4",
   "metadata": {},
   "outputs": [],
   "source": [
    "def get_qubit_op(dist):\n",
    "    # Define Molecule\n",
    "    molecule = Molecule(\n",
    "        # Coordinates in Angstrom\n",
    "        geometry=[\n",
    "            [\"H\", [0.0, 0.0, 0.0] ],\n",
    "            [\"H\", [dist, 0.0, 0.0] ]\n",
    "        ],\n",
    "        multiplicity=1,  # = 2*spin + 1\n",
    "        charge=0,\n",
    "    )\n",
    "\n",
    "    driver = ElectronicStructureMoleculeDriver(\n",
    "        molecule=molecule,\n",
    "        basis=\"sto3g\",\n",
    "        driver_type=ElectronicStructureDriverType.PYSCF)\n",
    "\n",
    "    # Get properties\n",
    "    properties = driver.run()\n",
    "    num_particles = (properties\n",
    "                        .get_property(\"ParticleNumber\")\n",
    "                        .num_particles)\n",
    "    num_spin_orbitals = int(properties\n",
    "                            .get_property(\"ParticleNumber\")\n",
    "                            .num_spin_orbitals)\n",
    "\n",
    "    # Define Problem, Use freeze core approximation, remove orbitals.\n",
    "    problem = ElectronicStructureProblem(\n",
    "        driver\n",
    "    )\n",
    "\n",
    "    second_q_ops = problem.second_q_ops()  # Get 2nd Quant OP\n",
    "    num_spin_orbitals = problem.num_spin_orbitals\n",
    "    num_particles = problem.num_particles\n",
    "\n",
    "    mapper = ParityMapper()  # Set Mapper\n",
    "    hamiltonian = second_q_ops[0]  # Set Hamiltonian\n",
    "    # Do two qubit reduction\n",
    "    converter = QubitConverter(mapper,two_qubit_reduction=True)\n",
    "    reducer = TwoQubitReduction(num_particles)\n",
    "    qubit_op = converter.convert(hamiltonian)\n",
    "    qubit_op = reducer.convert(qubit_op)\n",
    "\n",
    "    return qubit_op, num_particles, num_spin_orbitals, problem, converter"
   ]
  },
  {
   "cell_type": "code",
   "execution_count": 9,
   "id": "36846bc1",
   "metadata": {},
   "outputs": [
    {
     "name": "stdout",
     "output_type": "stream",
     "text": [
      "Interatomic Distance: 0.5 VQE Result: -1.05516 Exact Energy: -1.05516\n",
      "Interatomic Distance: 0.6 VQE Result: -1.11629 Exact Energy: -1.11629\n",
      "Interatomic Distance: 0.7 VQE Result: -1.13619 Exact Energy: -1.13619\n",
      "Interatomic Distance: 0.8 VQE Result: -1.13415 Exact Energy: -1.13415\n",
      "Interatomic Distance: 0.9 VQE Result: -1.12056 Exact Energy: -1.12056\n",
      "Interatomic Distance: 1.0 VQE Result: -1.10115 Exact Energy: -1.10115\n",
      "Interatomic Distance: 1.1 VQE Result: -1.07919 Exact Energy: -1.07919\n",
      "Interatomic Distance: 1.2 VQE Result: -1.05674 Exact Energy: -1.05674\n",
      "Interatomic Distance: 1.3 VQE Result: -1.03519 Exact Energy: -1.03519\n",
      "Interatomic Distance: 1.4 VQE Result: -1.01547 Exact Energy: -1.01547\n",
      "Interatomic Distance: 1.5 VQE Result: -0.99815 Exact Energy: -0.99815\n",
      "Interatomic Distance: 1.6 VQE Result: -0.98347 Exact Energy: -0.98347\n",
      "Interatomic Distance: 1.7 VQE Result: -0.97143 Exact Energy: -0.97143\n",
      "Interatomic Distance: 1.8 VQE Result: -0.96182 Exact Energy: -0.96182\n",
      "Interatomic Distance: 1.9 VQE Result: -0.95434 Exact Energy: -0.95434\n",
      "Interatomic Distance: 2.0 VQE Result: -0.94864 Exact Energy: -0.94864\n",
      "Interatomic Distance: 2.1 VQE Result: -0.94437 Exact Energy: -0.94437\n",
      "Interatomic Distance: 2.2 VQE Result: -0.94122 Exact Energy: -0.94122\n",
      "Interatomic Distance: 2.3 VQE Result: -0.93892 Exact Energy: -0.93892\n",
      "Interatomic Distance: 2.4 VQE Result: -0.93725 Exact Energy: -0.93725\n",
      "Interatomic Distance: 2.5 VQE Result: -0.93605 Exact Energy: -0.93605\n",
      "Interatomic Distance: 2.6 VQE Result: -0.93520 Exact Energy: -0.93520\n",
      "Interatomic Distance: 2.7 VQE Result: -0.93458 Exact Energy: -0.93458\n",
      "Interatomic Distance: 2.8 VQE Result: -0.93415 Exact Energy: -0.93415\n",
      "Interatomic Distance: 2.9 VQE Result: -0.93385 Exact Energy: -0.93385\n",
      "Interatomic Distance: 3.0 VQE Result: -0.93363 Exact Energy: -0.93363\n",
      "Interatomic Distance: 3.1 VQE Result: -0.93348 Exact Energy: -0.93348\n",
      "Interatomic Distance: 3.2 VQE Result: -0.93338 Exact Energy: -0.93338\n",
      "Interatomic Distance: 3.3 VQE Result: -0.93331 Exact Energy: -0.93331\n",
      "Interatomic Distance: 3.4 VQE Result: -0.93326 Exact Energy: -0.93326\n",
      "Interatomic Distance: 3.5 VQE Result: -0.93323 Exact Energy: -0.93323\n",
      "Interatomic Distance: 3.6 VQE Result: -0.93321 Exact Energy: -0.93321\n",
      "Interatomic Distance: 3.7 VQE Result: -0.93319 Exact Energy: -0.93319\n",
      "Interatomic Distance: 3.8 VQE Result: -0.93318 Exact Energy: -0.93318\n",
      "Interatomic Distance: 3.9 VQE Result: -0.93318 Exact Energy: -0.93318\n",
      "Interatomic Distance: 4.0 VQE Result: -0.93317 Exact Energy: -0.93317\n",
      "Interatomic Distance: 4.1 VQE Result: -0.93317 Exact Energy: -0.93317\n",
      "Interatomic Distance: 4.2 VQE Result: -0.93317 Exact Energy: -0.93317\n",
      "Interatomic Distance: 4.3 VQE Result: -0.93317 Exact Energy: -0.93317\n",
      "Interatomic Distance: 4.4 VQE Result: -0.93316 Exact Energy: -0.93316\n",
      "Interatomic Distance: 4.5 VQE Result: -0.93316 Exact Energy: -0.93316\n",
      "Interatomic Distance: 4.6 VQE Result: -0.93316 Exact Energy: -0.93316\n",
      "Interatomic Distance: 4.7 VQE Result: -0.93316 Exact Energy: -0.93316\n",
      "Interatomic Distance: 4.8 VQE Result: -0.93316 Exact Energy: -0.93316\n",
      "Interatomic Distance: 4.9 VQE Result: -0.93316 Exact Energy: -0.93316\n",
      "All energies have been calculated.\n"
     ]
    }
   ],
   "source": [
    "def exact_solver(problem, converter):\n",
    "    solver = NumPyMinimumEigensolverFactory()\n",
    "    calc = GroundStateEigensolver(converter, solver)\n",
    "    result = calc.solve(problem)\n",
    "    return result\n",
    "\n",
    "backend = BasicAer.get_backend(\"statevector_simulator\")\n",
    "distances = np.arange(0.5, 5.0, 0.1)\n",
    "exact_energies = []\n",
    "vqe_energies = []\n",
    "optimizer = SLSQP(maxiter=5)\n",
    "for dist in distances:\n",
    "    (qubit_op, num_particles, num_spin_orbitals,\n",
    "                             problem, converter) = get_qubit_op(dist)\n",
    "    result = exact_solver(problem,converter)\n",
    "    exact_energies.append(result.total_energies[0].real)\n",
    "    init_state = HartreeFock(num_spin_orbitals, num_particles, converter)\n",
    "    var_form = UCCSD(converter,\n",
    "                     num_particles,\n",
    "                     num_spin_orbitals,\n",
    "                     initial_state=init_state)\n",
    "    vqe = VQE(var_form, optimizer, quantum_instance=backend)\n",
    "    vqe_calc = vqe.compute_minimum_eigenvalue(qubit_op)\n",
    "    vqe_result = problem.interpret(vqe_calc).total_energies[0].real\n",
    "    vqe_energies.append(vqe_result)\n",
    "    print(f\"Interatomic Distance: {np.round(dist, 2)}\",\n",
    "          f\"VQE Result: {vqe_result:.5f}\",\n",
    "          f\"Exact Energy: {exact_energies[-1]:.5f}\")\n",
    "\n",
    "print(\"All energies have been calculated.\")"
   ]
  },
  {
   "cell_type": "code",
   "execution_count": 10,
   "id": "28d5cc87",
   "metadata": {},
   "outputs": [
    {
     "data": {
      "image/png": "[encoded data removed]",
      "text/plain": [
       "<Figure size 432x288 with 1 Axes>"
      ]
     },
     "metadata": {
      "needs_background": "light"
     },
     "output_type": "display_data"
    }
   ],
   "source": [
    "plt.plot(distances, exact_energies, label=\"Exact Energy\")\n",
    "plt.plot(distances, vqe_energies, label=\"VQE Energy\")\n",
    "plt.xlabel('Interatomic distance (Angstrom)')\n",
    "plt.ylabel('Energy(Hartree)')\n",
    "plt.legend()\n",
    "plt.show()"
   ]
  },
  {
   "cell_type": "code",
   "execution_count": null,
   "id": "1fb236e3",
   "metadata": {},
   "outputs": [],
   "source": []
  }
 ],
 "metadata": {
  "kernelspec": {
   "display_name": "base",
   "language": "python",
   "name": "base"
  },
  "language_info": {
   "codemirror_mode": {
    "name": "ipython",
    "version": 3
   },
   "file_extension": ".py",
   "mimetype": "text/x-python",
   "name": "python",
   "nbconvert_exporter": "python",
   "pygments_lexer": "ipython3",
   "version": "3.9.12"
  }
 },
 "nbformat": 4,
 "nbformat_minor": 5
}
